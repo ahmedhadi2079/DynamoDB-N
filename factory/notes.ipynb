{
 "cells": [
  {
   "cell_type": "markdown",
   "metadata": {},
   "source": [
    "### for getting schemas from athena to create data catalog"
   ]
  },
  {
   "cell_type": "markdown",
   "metadata": {},
   "source": [
    "(\\w+)\\s+(\\w+) => \"$1\": \"$2\","
   ]
  },
  {
   "cell_type": "markdown",
   "metadata": {},
   "source": [
    "### for getting columns comments from schemas"
   ]
  },
  {
   "cell_type": "code",
   "execution_count": null,
   "metadata": {
    "vscode": {
     "languageId": "plaintext"
    }
   },
   "outputs": [],
   "source": [
    "\"(\\w+)\":\\s+\"(\\w+)\" => \"$1\": \"\""
   ]
  }
 ],
 "metadata": {
  "language_info": {
   "name": "python"
  }
 },
 "nbformat": 4,
 "nbformat_minor": 2
}
