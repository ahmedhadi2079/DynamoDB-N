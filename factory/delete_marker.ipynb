{
 "cells": [
  {
   "cell_type": "code",
   "execution_count": null,
   "metadata": {},
   "outputs": [],
   "source": [
    "import os\n",
    "import boto3\n",
    "from datetime import datetime"
   ]
  },
  {
   "cell_type": "code",
   "execution_count": null,
   "metadata": {},
   "outputs": [],
   "source": [
    "# aws sso login --profile beta\n",
    "os.environ.setdefault(\"AWS_PROFILE\", \"sandbox\")\n",
    "session = boto3.Session(profile_name=\"sandbox\")"
   ]
  },
  {
   "cell_type": "code",
   "execution_count": null,
   "metadata": {},
   "outputs": [],
   "source": [
    "# Initialize the S3 client\n",
    "s3_client = boto3.client(\"s3\")"
   ]
  },
  {
   "cell_type": "code",
   "execution_count": null,
   "metadata": {},
   "outputs": [],
   "source": [
    "def list_object_versions(bucket_name, prefix=None):\n",
    "    versions = []\n",
    "    paginator = s3_client.get_paginator(\"list_object_versions\")\n",
    "\n",
    "    if prefix:\n",
    "        pages = paginator.paginate(Bucket=bucket_name, Prefix=prefix)\n",
    "    else:\n",
    "        pages = paginator.paginate(Bucket=bucket_name)\n",
    "\n",
    "    for page in pages:\n",
    "        if \"Versions\" in page:\n",
    "            for version in page[\"Versions\"]:\n",
    "                versions.append(\n",
    "                    {\n",
    "                        \"Key\": version[\"Key\"],\n",
    "                        \"VersionId\": version[\"VersionId\"],\n",
    "                        \"IsLatest\": version[\"IsLatest\"],\n",
    "                        \"LastModified\": version[\"LastModified\"],\n",
    "                        \"Size\": version[\"Size\"],\n",
    "                    }\n",
    "                )\n",
    "        if \"DeleteMarkers\" in page:\n",
    "            for delete_marker in page[\"DeleteMarkers\"]:\n",
    "                versions.append(\n",
    "                    {\n",
    "                        \"Key\": delete_marker[\"Key\"],\n",
    "                        \"VersionId\": delete_marker[\"VersionId\"],\n",
    "                        \"IsLatest\": delete_marker[\"IsLatest\"],\n",
    "                        \"LastModified\": delete_marker[\"LastModified\"],\n",
    "                        \"IsDeleteMarker\": True,\n",
    "                    }\n",
    "                )\n",
    "\n",
    "    return versions"
   ]
  },
  {
   "cell_type": "code",
   "execution_count": null,
   "metadata": {},
   "outputs": [],
   "source": [
    "def delete_marker_version(bucket_name, key, version_id):\n",
    "    try:\n",
    "        # Delete the specified delete marker version\n",
    "        response = s3_client.delete_object(\n",
    "            Bucket=bucket_name, Key=key, VersionId=version_id\n",
    "        )\n",
    "        print(f\"Deleted delete marker for {key} with VersionId {version_id}\")\n",
    "        return response\n",
    "    except Exception as e:\n",
    "        print(f\"Error deleting delete marker: {e}\")"
   ]
  },
  {
   "cell_type": "code",
   "execution_count": null,
   "metadata": {},
   "outputs": [],
   "source": [
    "bucket_name = \"bb2-sandbox-datalake-raw\"\n",
    "prefix = \"dynamo_sls_home_financing_mortgage/\"\n",
    "\n",
    "object_versions = list_object_versions(bucket_name, prefix)\n",
    "\n",
    "# Show the versions\n",
    "for version in object_versions:\n",
    "    print(version)"
   ]
  },
  {
   "cell_type": "code",
   "execution_count": null,
   "metadata": {},
   "outputs": [],
   "source": [
    "# Identify delete markers and delete them\n",
    "# for version in object_versions:\n",
    "#     if version.get(\"IsDeleteMarker\", False):  # Check if it’s a delete marker\n",
    "#         delete_marker_version(bucket_name, version[\"Key\"], version[\"VersionId\"])"
   ]
  },
  {
   "cell_type": "code",
   "execution_count": null,
   "metadata": {},
   "outputs": [],
   "source": [
    "def delete_markers_and_versions(bucket_name, cutoff_timestamp):\n",
    "    \"\"\"\n",
    "    Deletes delete markers and versions in an S3 bucket older than the specified cutoff timestamp.\n",
    "\n",
    "    Args:\n",
    "        bucket_name (str): Name of the S3 bucket.\n",
    "        cutoff_timestamp (int): The cutoff timestamp in seconds since the epoch.\n",
    "                                Objects before this timestamp will be processed.\n",
    "    \"\"\"\n",
    "    s3 = boto3.client(\"s3\")\n",
    "    paginator = s3.get_paginator(\"list_object_versions\")\n",
    "\n",
    "    try:\n",
    "        cutoff_date = datetime.fromtimestamp(cutoff_timestamp)\n",
    "    except ValueError:\n",
    "        print(\"Invalid timestamp.\")\n",
    "        return\n",
    "\n",
    "    try:\n",
    "        # List all versions and delete markers in the bucket\n",
    "        for page in paginator.paginate(Bucket=bucket_name):\n",
    "            if \"Versions\" in page:\n",
    "                for version in page[\"Versions\"]:\n",
    "                    last_modified = version[\"LastModified\"]\n",
    "                    if last_modified < cutoff_date:\n",
    "                        print(\n",
    "                            f\"Deleting version: Key={version['Key']}, VersionId={version['VersionId']}\"\n",
    "                        )\n",
    "                        s3.delete_object(\n",
    "                            Bucket=bucket_name,\n",
    "                            Key=version[\"Key\"],\n",
    "                            VersionId=version[\"VersionId\"],\n",
    "                        )\n",
    "\n",
    "            if \"DeleteMarkers\" in page:\n",
    "                for marker in page[\"DeleteMarkers\"]:\n",
    "                    last_modified = marker[\"LastModified\"]\n",
    "                    if last_modified < cutoff_date:\n",
    "                        print(\n",
    "                            f\"Deleting delete marker: Key={marker['Key']}, VersionId={marker['VersionId']}\"\n",
    "                        )\n",
    "                        s3.delete_object(\n",
    "                            Bucket=bucket_name,\n",
    "                            Key=marker[\"Key\"],\n",
    "                            VersionId=marker[\"VersionId\"],\n",
    "                        )\n",
    "\n",
    "        print(\"Cleanup complete.\")\n",
    "    except Exception as e:\n",
    "        print(f\"An error occurred: {e}\")"
   ]
  },
  {
   "cell_type": "code",
   "execution_count": null,
   "metadata": {},
   "outputs": [],
   "source": [
    "cutoff_timestamp = 1704067200  # Replace with your desired timestamp (e.g., 1704067200 for 2024-01-01 00:00:00 UTC)\n",
    "delete_markers_and_versions(bucket_name, cutoff_timestamp)"
   ]
  }
 ],
 "metadata": {
  "kernelspec": {
   "display_name": "Python 3",
   "language": "python",
   "name": "python3"
  },
  "language_info": {
   "codemirror_mode": {
    "name": "ipython",
    "version": 3
   },
   "file_extension": ".py",
   "mimetype": "text/x-python",
   "name": "python",
   "nbconvert_exporter": "python",
   "pygments_lexer": "ipython3",
   "version": "3.11.8"
  }
 },
 "nbformat": 4,
 "nbformat_minor": 2
}
