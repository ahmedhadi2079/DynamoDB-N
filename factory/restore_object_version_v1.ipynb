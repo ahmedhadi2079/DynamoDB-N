{
 "cells": [
  {
   "cell_type": "code",
   "execution_count": 1,
   "metadata": {},
   "outputs": [],
   "source": [
    "import os\n",
    "import boto3\n",
    "from datetime import datetime\n",
    "from dateutil import tz"
   ]
  },
  {
   "cell_type": "code",
   "execution_count": 2,
   "metadata": {},
   "outputs": [],
   "source": [
    "# aws sso login --profile beta\n",
    "os.environ.setdefault(\"AWS_PROFILE\", \"sandbox\")\n",
    "session = boto3.Session(profile_name=\"sandbox\")"
   ]
  },
  {
   "cell_type": "code",
   "execution_count": 3,
   "metadata": {},
   "outputs": [],
   "source": [
    "# Initialize the S3 client\n",
    "s3_client = boto3.client(\"s3\")"
   ]
  },
  {
   "cell_type": "code",
   "execution_count": null,
   "metadata": {},
   "outputs": [],
   "source": [
    "bucket_name = \"bb2-sandbox-datalake-raw\"\n",
    "prefix = \"test_data/date=2024-11-06/\""
   ]
  },
  {
   "cell_type": "code",
   "execution_count": 5,
   "metadata": {},
   "outputs": [],
   "source": [
    "def list_object_versions(bucket_name, prefix=None):\n",
    "    versions = []\n",
    "    paginator = s3_client.get_paginator(\"list_object_versions\")\n",
    "\n",
    "    if prefix:\n",
    "        pages = paginator.paginate(Bucket=bucket_name, Prefix=prefix)\n",
    "    else:\n",
    "        pages = paginator.paginate(Bucket=bucket_name)\n",
    "\n",
    "    for page in pages:\n",
    "        if \"Versions\" in page:\n",
    "            for version in page[\"Versions\"]:\n",
    "                versions.append(\n",
    "                    {\n",
    "                        \"Key\": version[\"Key\"],\n",
    "                        \"VersionId\": version[\"VersionId\"],\n",
    "                        \"IsLatest\": version[\"IsLatest\"],\n",
    "                        \"LastModified\": version[\"LastModified\"],\n",
    "                        \"Size\": version[\"Size\"],\n",
    "                    }\n",
    "                )\n",
    "        if \"DeleteMarkers\" in page:\n",
    "            for delete_marker in page[\"DeleteMarkers\"]:\n",
    "                versions.append(\n",
    "                    {\n",
    "                        \"Key\": delete_marker[\"Key\"],\n",
    "                        \"VersionId\": delete_marker[\"VersionId\"],\n",
    "                        \"IsLatest\": delete_marker[\"IsLatest\"],\n",
    "                        \"LastModified\": delete_marker[\"LastModified\"],\n",
    "                        \"IsDeleteMarker\": True,\n",
    "                    }\n",
    "                )\n",
    "\n",
    "    return versions"
   ]
  },
  {
   "cell_type": "code",
   "execution_count": 6,
   "metadata": {},
   "outputs": [
    {
     "data": {
      "text/plain": [
       "[{'Key': 'test_data/date=2024-11-06/60e53455ff1c4d648bd49371c9924411.snappy.parquet',\n",
       "  'VersionId': 'HmJiahMwBewopNdrqutWea0xGbAx2rY5',\n",
       "  'IsLatest': True,\n",
       "  'LastModified': datetime.datetime(2024, 11, 28, 7, 44, 25, tzinfo=tzutc()),\n",
       "  'Size': 1167532},\n",
       " {'Key': 'test_data/date=2024-11-06/60e53455ff1c4d648bd49371c9924411.snappy.parquet',\n",
       "  'VersionId': 'rCmEMlHvcc6dNmgqBmzN9rQzL7qEJ0kX',\n",
       "  'IsLatest': False,\n",
       "  'LastModified': datetime.datetime(2024, 11, 28, 7, 41, 31, tzinfo=tzutc()),\n",
       "  'Size': 1167532},\n",
       " {'Key': 'test_data/date=2024-11-06/c7e81600-736f-43c1-943b-69fc27f9f424.csv',\n",
       "  'VersionId': 's7hQgQeTTLyQiu12o_TzagC3LfAQkz5x',\n",
       "  'IsLatest': True,\n",
       "  'LastModified': datetime.datetime(2024, 11, 28, 8, 13, 4, tzinfo=tzutc()),\n",
       "  'Size': 1162866},\n",
       " {'Key': 'test_data/date=2024-11-06/c7e81600-736f-43c1-943b-69fc27f9f424.csv',\n",
       "  'VersionId': '_Baw1ttJGaSpDPU1AJOTycBGR_fgW9t4',\n",
       "  'IsLatest': False,\n",
       "  'LastModified': datetime.datetime(2024, 11, 28, 8, 5, 48, tzinfo=tzutc()),\n",
       "  'Size': 1162866}]"
      ]
     },
     "execution_count": 6,
     "metadata": {},
     "output_type": "execute_result"
    }
   ],
   "source": [
    "object_versions = list_object_versions(bucket_name, prefix)\n",
    "object_versions"
   ]
  },
  {
   "cell_type": "code",
   "execution_count": 7,
   "metadata": {},
   "outputs": [],
   "source": [
    "def convert_to_utc_components(date_string):\n",
    "    \"\"\"\n",
    "    Converts a datetime string with timezone information to UTC components.\n",
    "\n",
    "    Args:\n",
    "        date_string (str): The input datetime string, e.g., \"November 20, 2024, 19:07:25 (UTC+02:00)\"\n",
    "\n",
    "    Returns:\n",
    "        tuple: A tuple of (year, month, day, hour, minute, second) in UTC.\n",
    "    \"\"\"\n",
    "    # Clean the string to remove parentheses around the timezone\n",
    "    cleaned_date_string = date_string.replace(\" (\", \" \").replace(\")\", \"\")\n",
    "\n",
    "    # Parse the cleaned string into a datetime object\n",
    "    datetime_obj = datetime.strptime(cleaned_date_string, \"%B %d, %Y, %H:%M:%S %Z%z\")\n",
    "\n",
    "    # Convert to UTC\n",
    "    datetime_obj_utc = datetime_obj.astimezone(tz.tzutc())\n",
    "\n",
    "    # Extract components\n",
    "    return (\n",
    "        datetime_obj_utc.year,\n",
    "        datetime_obj_utc.month,\n",
    "        datetime_obj_utc.day,\n",
    "        datetime_obj_utc.hour,\n",
    "        datetime_obj_utc.minute,\n",
    "        datetime_obj_utc.second,\n",
    "    )"
   ]
  },
  {
   "cell_type": "code",
   "execution_count": 8,
   "metadata": {},
   "outputs": [
    {
     "data": {
      "text/plain": [
       "'November 28, 2024, 10:13:04 (UTC+02:00)'"
      ]
     },
     "execution_count": 8,
     "metadata": {},
     "output_type": "execute_result"
    }
   ],
   "source": [
    "os.environ.setdefault(\"START_DATE\", \"November 28, 2024, 09:41:31 (UTC+02:00)\")\n",
    "os.environ.setdefault(\"END_DATE\", \"November 28, 2024, 10:13:04 (UTC+02:00)\")"
   ]
  },
  {
   "cell_type": "code",
   "execution_count": 9,
   "metadata": {},
   "outputs": [
    {
     "data": {
      "text/plain": [
       "datetime.datetime(2024, 11, 28, 7, 41, 31)"
      ]
     },
     "execution_count": 9,
     "metadata": {},
     "output_type": "execute_result"
    }
   ],
   "source": [
    "start_utc_components = convert_to_utc_components(os.environ[\"START_DATE\"])\n",
    "start_date = datetime(*start_utc_components, tzinfo=None)\n",
    "start_date"
   ]
  },
  {
   "cell_type": "code",
   "execution_count": 10,
   "metadata": {},
   "outputs": [
    {
     "data": {
      "text/plain": [
       "datetime.datetime(2024, 11, 28, 8, 13, 4)"
      ]
     },
     "execution_count": 10,
     "metadata": {},
     "output_type": "execute_result"
    }
   ],
   "source": [
    "end_utc_components = convert_to_utc_components(os.environ[\"END_DATE\"])\n",
    "end_date = datetime(*end_utc_components, tzinfo=None)\n",
    "end_date"
   ]
  },
  {
   "cell_type": "code",
   "execution_count": 11,
   "metadata": {},
   "outputs": [],
   "source": [
    "# Filter objects within the specified date range\n",
    "filtered_objects = [\n",
    "    obj\n",
    "    for obj in object_versions\n",
    "    if start_date <= obj[\"LastModified\"].replace(tzinfo=None) <= end_date\n",
    "]"
   ]
  },
  {
   "cell_type": "code",
   "execution_count": 12,
   "metadata": {},
   "outputs": [
    {
     "data": {
      "text/plain": [
       "[{'Key': 'test_data/date=2024-11-06/60e53455ff1c4d648bd49371c9924411.snappy.parquet',\n",
       "  'VersionId': 'HmJiahMwBewopNdrqutWea0xGbAx2rY5',\n",
       "  'IsLatest': True,\n",
       "  'LastModified': datetime.datetime(2024, 11, 28, 7, 44, 25, tzinfo=tzutc()),\n",
       "  'Size': 1167532},\n",
       " {'Key': 'test_data/date=2024-11-06/60e53455ff1c4d648bd49371c9924411.snappy.parquet',\n",
       "  'VersionId': 'rCmEMlHvcc6dNmgqBmzN9rQzL7qEJ0kX',\n",
       "  'IsLatest': False,\n",
       "  'LastModified': datetime.datetime(2024, 11, 28, 7, 41, 31, tzinfo=tzutc()),\n",
       "  'Size': 1167532},\n",
       " {'Key': 'test_data/date=2024-11-06/c7e81600-736f-43c1-943b-69fc27f9f424.csv',\n",
       "  'VersionId': 's7hQgQeTTLyQiu12o_TzagC3LfAQkz5x',\n",
       "  'IsLatest': True,\n",
       "  'LastModified': datetime.datetime(2024, 11, 28, 8, 13, 4, tzinfo=tzutc()),\n",
       "  'Size': 1162866},\n",
       " {'Key': 'test_data/date=2024-11-06/c7e81600-736f-43c1-943b-69fc27f9f424.csv',\n",
       "  'VersionId': '_Baw1ttJGaSpDPU1AJOTycBGR_fgW9t4',\n",
       "  'IsLatest': False,\n",
       "  'LastModified': datetime.datetime(2024, 11, 28, 8, 5, 48, tzinfo=tzutc()),\n",
       "  'Size': 1162866}]"
      ]
     },
     "execution_count": 12,
     "metadata": {},
     "output_type": "execute_result"
    }
   ],
   "source": [
    "filtered_objects"
   ]
  },
  {
   "cell_type": "code",
   "execution_count": 15,
   "metadata": {},
   "outputs": [
    {
     "name": "stdout",
     "output_type": "stream",
     "text": [
      "Copied object test_data/date=2024-11-06/60e53455ff1c4d648bd49371c9924411.snappy.parquet (version rCmEMlHvcc6dNmgqBmzN9rQzL7qEJ0kX) to test_data/date=2024-11-06/60e53455ff1c4d648bd49371c9924411_restored_rCmEMlHvcc6dNmgqBmzN9rQzL7qEJ0kX.snappy.parquet in bucket bb2-sandbox-datalake-raw/test_data/date=2024-11-06/.\n",
      "Copied object test_data/date=2024-11-06/c7e81600-736f-43c1-943b-69fc27f9f424.csv (version _Baw1ttJGaSpDPU1AJOTycBGR_fgW9t4) to test_data/date=2024-11-06/c7e81600-736f-43c1-943b-69fc27f9f424_restored__Baw1ttJGaSpDPU1AJOTycBGR_fgW9t4.csv in bucket bb2-sandbox-datalake-raw/test_data/date=2024-11-06/.\n"
     ]
    }
   ],
   "source": [
    "for obj in filtered_objects:\n",
    "    key = obj[\"Key\"]\n",
    "    version_id = obj[\"VersionId\"]\n",
    "    is_latest = obj[\"IsLatest\"]\n",
    "\n",
    "    if not is_latest:\n",
    "        if key.endswith(\".snappy.parquet\"):\n",
    "            # Handle .snappy.parquet specifically\n",
    "            base_key = key[: -len(\".snappy.parquet\")]  # Remove the extension\n",
    "            new_key = f\"{base_key}_restored_{version_id}.snappy.parquet\"\n",
    "        else:\n",
    "            # Handle other extensions\n",
    "            file_extension = key.split(\".\")[-1]  # Get the extension after the last dot\n",
    "            base_key = key[\n",
    "                : -(len(file_extension) + 1)\n",
    "            ]  # Remove the extension and the dot\n",
    "            new_key = f\"{base_key}_restored_{version_id}.{file_extension}\"\n",
    "\n",
    "        # Copy the object to the new key\n",
    "        s3_client.copy_object(\n",
    "            Bucket=bucket_name,\n",
    "            CopySource={\"Bucket\": bucket_name, \"Key\": key, \"VersionId\": version_id},\n",
    "            Key=new_key,\n",
    "        )\n",
    "\n",
    "        print(\n",
    "            f\"Copied object {key} (version {version_id}) to {new_key} in bucket {bucket_name}/{prefix}.\"\n",
    "        )"
   ]
  }
 ],
 "metadata": {
  "kernelspec": {
   "display_name": "Python 3",
   "language": "python",
   "name": "python3"
  },
  "language_info": {
   "codemirror_mode": {
    "name": "ipython",
    "version": 3
   },
   "file_extension": ".py",
   "mimetype": "text/x-python",
   "name": "python",
   "nbconvert_exporter": "python",
   "pygments_lexer": "ipython3",
   "version": "3.10.10"
  }
 },
 "nbformat": 4,
 "nbformat_minor": 2
}
