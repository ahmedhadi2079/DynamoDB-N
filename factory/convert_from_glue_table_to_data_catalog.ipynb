{
 "cells": [
  {
   "cell_type": "code",
   "execution_count": 1,
   "metadata": {},
   "outputs": [
    {
     "name": "stdout",
     "output_type": "stream",
     "text": [
      "data_catalog_fin.py has been generated.\n"
     ]
    }
   ],
   "source": [
    "import json\n",
    "\n",
    "# Load the data from data_catalog.json\n",
    "with open(\"data_catalog.json\", \"r\") as file:\n",
    "    data_catalog = json.load(file)\n",
    "\n",
    "# Initialize an empty Python dictionary to hold the final format\n",
    "data_catalog_fin = {}\n",
    "\n",
    "# Process the JSON and create a Python dict\n",
    "for entry in data_catalog:\n",
    "    name = entry[\"Name\"]\n",
    "    data_type = entry[\"Type\"]\n",
    "\n",
    "    # Add the data to the final dictionary\n",
    "    data_catalog_fin[name] = data_type\n",
    "\n",
    "# Save the result to a new Python file\n",
    "with open(\"data_catalog_fin.py\", \"w\") as file:\n",
    "    file.write(\"data_catalog_fin = {\\n\")\n",
    "    for key, value in data_catalog_fin.items():\n",
    "        file.write(f\"    '{key}': '{value}',\\n\")\n",
    "    file.write(\"}\\n\")\n",
    "\n",
    "print(\"data_catalog_fin.py has been generated.\")"
   ]
  },
  {
   "cell_type": "code",
   "execution_count": null,
   "metadata": {},
   "outputs": [],
   "source": []
  }
 ],
 "metadata": {
  "kernelspec": {
   "display_name": "Python 3",
   "language": "python",
   "name": "python3"
  },
  "language_info": {
   "codemirror_mode": {
    "name": "ipython",
    "version": 3
   },
   "file_extension": ".py",
   "mimetype": "text/x-python",
   "name": "python",
   "nbconvert_exporter": "python",
   "pygments_lexer": "ipython3",
   "version": "3.10.10"
  }
 },
 "nbformat": 4,
 "nbformat_minor": 2
}
