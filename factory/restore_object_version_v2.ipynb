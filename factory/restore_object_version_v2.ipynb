{
 "cells": [
  {
   "cell_type": "code",
   "execution_count": 1,
   "metadata": {},
   "outputs": [],
   "source": [
    "import boto3\n",
    "import os\n",
    "from datetime import datetime\n",
    "from dateutil import tz\n",
    "from typing import List, Dict, Optional, Tuple, Union"
   ]
  },
  {
   "cell_type": "code",
   "execution_count": 2,
   "metadata": {},
   "outputs": [],
   "source": [
    "# aws sso login --profile beta\n",
    "os.environ.setdefault(\"AWS_PROFILE\", \"sandbox\")\n",
    "session = boto3.Session(profile_name=\"sandbox\")"
   ]
  },
  {
   "cell_type": "code",
   "execution_count": 3,
   "metadata": {},
   "outputs": [],
   "source": [
    "# Initialize the S3 client\n",
    "s3_client = boto3.client(\"s3\")"
   ]
  },
  {
   "cell_type": "code",
   "execution_count": 5,
   "metadata": {},
   "outputs": [],
   "source": [
    "def list_object_versions(\n",
    "    bucket_name: str, prefix: Optional[str] = None\n",
    ") -> List[Dict[str, Union[str, int, bool, datetime]]]:\n",
    "    \"\"\"\n",
    "    List all object versions in an S3 bucket for a given prefix.\n",
    "\n",
    "    Args:\n",
    "        bucket_name (str): Name of the S3 bucket.\n",
    "        prefix (Optional[str]): Prefix to filter the objects. Defaults to None.\n",
    "\n",
    "    Returns:\n",
    "        List[Dict[str, Union[str, int, bool, datetime]]]: A list of dictionaries containing object version details.\n",
    "    \"\"\"\n",
    "\n",
    "    def process_versions(versions: List[Dict]) -> List[Dict]:\n",
    "        \"\"\"Helper to process version entries.\"\"\"\n",
    "        return [\n",
    "            {\n",
    "                \"Key\": version[\"Key\"],\n",
    "                \"VersionId\": version[\"VersionId\"],\n",
    "                \"IsLatest\": version[\"IsLatest\"],\n",
    "                \"LastModified\": version[\"LastModified\"],\n",
    "                \"Size\": version[\"Size\"],\n",
    "                \"IsDeleteMarker\": False,\n",
    "            }\n",
    "            for version in versions\n",
    "        ]\n",
    "\n",
    "    def process_delete_markers(delete_markers: List[Dict]) -> List[Dict]:\n",
    "        \"\"\"Helper to process delete marker entries.\"\"\"\n",
    "        return [\n",
    "            {\n",
    "                \"Key\": delete_marker[\"Key\"],\n",
    "                \"VersionId\": delete_marker[\"VersionId\"],\n",
    "                \"IsLatest\": delete_marker[\"IsLatest\"],\n",
    "                \"LastModified\": delete_marker[\"LastModified\"],\n",
    "                \"IsDeleteMarker\": True,\n",
    "            }\n",
    "            for delete_marker in delete_markers\n",
    "        ]\n",
    "\n",
    "    versions = []\n",
    "    paginator = s3_client.get_paginator(\"list_object_versions\")\n",
    "    pagination_config = {\"PageSize\": 1000}\n",
    "    pages = paginator.paginate(\n",
    "        Bucket=bucket_name, Prefix=prefix, PaginationConfig=pagination_config\n",
    "    )\n",
    "\n",
    "    for page in pages:\n",
    "        if \"Versions\" in page:\n",
    "            versions.extend(process_versions(page[\"Versions\"]))\n",
    "        if \"DeleteMarkers\" in page:\n",
    "            versions.extend(process_delete_markers(page[\"DeleteMarkers\"]))\n",
    "\n",
    "    return versions"
   ]
  },
  {
   "cell_type": "code",
   "execution_count": 6,
   "metadata": {},
   "outputs": [],
   "source": [
    "def convert_to_utc_components(date_string: str) -> Tuple[int, int, int, int, int, int]:\n",
    "    \"\"\"\n",
    "    Convert a datetime string with timezone information to UTC components.\n",
    "\n",
    "    Args:\n",
    "        date_string (str): The input datetime string (e.g., \"November 20, 2024, 19:07:25 (UTC+02:00)\").\n",
    "\n",
    "    Returns:\n",
    "        Tuple[int, int, int, int, int, int]: A tuple of (year, month, day, hour, minute, second) in UTC.\n",
    "    \"\"\"\n",
    "    cleaned_date_string = date_string.replace(\" (\", \" \").replace(\")\", \"\")\n",
    "    datetime_obj = datetime.strptime(cleaned_date_string, \"%B %d, %Y, %H:%M:%S %Z%z\")\n",
    "    datetime_obj_utc = datetime_obj.astimezone(tz.tzutc())\n",
    "\n",
    "    return (\n",
    "        datetime_obj_utc.year,\n",
    "        datetime_obj_utc.month,\n",
    "        datetime_obj_utc.day,\n",
    "        datetime_obj_utc.hour,\n",
    "        datetime_obj_utc.minute,\n",
    "        datetime_obj_utc.second,\n",
    "    )"
   ]
  },
  {
   "cell_type": "code",
   "execution_count": 7,
   "metadata": {},
   "outputs": [],
   "source": [
    "def filter_object_versions_by_date(\n",
    "    object_versions: List[Dict[str, Union[str, bool, datetime]]],\n",
    "    start_date: datetime,\n",
    "    end_date: datetime,\n",
    ") -> List[Dict]:\n",
    "    \"\"\"\n",
    "    Filter object versions within a specified date range, excluding delete markers.\n",
    "\n",
    "    Args:\n",
    "        object_versions (List[Dict]): List of object versions.\n",
    "        start_date (datetime): Start date for filtering.\n",
    "        end_date (datetime): End date for filtering.\n",
    "\n",
    "    Returns:\n",
    "        List[Dict]: A list of filtered object versions.\n",
    "    \"\"\"\n",
    "    return [\n",
    "        obj\n",
    "        for obj in object_versions\n",
    "        if not obj.get(\"IsDeleteMarker\", False)\n",
    "        and start_date <= obj[\"LastModified\"].replace(tzinfo=None) <= end_date\n",
    "    ]"
   ]
  },
  {
   "cell_type": "code",
   "execution_count": 8,
   "metadata": {},
   "outputs": [],
   "source": [
    "def copy_object_with_new_key(bucket_name: str, obj: Dict, prefix: str) -> None:\n",
    "    \"\"\"\n",
    "    Copy an S3 object to a new key with a modified name.\n",
    "\n",
    "    Args:\n",
    "        bucket_name (str): Name of the S3 bucket.\n",
    "        obj (Dict): Object details including Key, VersionId, IsLatest, and IsDeleteMarker.\n",
    "        prefix (str): Target path prefix for the object.\n",
    "    \"\"\"\n",
    "    # Skip delete markers\n",
    "    if obj.get(\"IsDeleteMarker\", False):\n",
    "        print(\n",
    "            f\"Skipping delete marker for object {obj['Key']} (version {obj['VersionId']}).\"\n",
    "        )\n",
    "        return\n",
    "\n",
    "    key = obj[\"Key\"]\n",
    "    version_id = obj[\"VersionId\"]\n",
    "    is_latest = obj[\"IsLatest\"]\n",
    "\n",
    "    if is_latest:\n",
    "        return\n",
    "\n",
    "    if key.endswith(\".snappy.parquet\"):\n",
    "        base_key = key[: -len(\".snappy.parquet\")]\n",
    "        new_key = f\"{base_key}_restored_{version_id}.snappy.parquet\"\n",
    "    else:\n",
    "        file_extension = key.split(\".\")[-1]\n",
    "        base_key = key[: -(len(file_extension) + 1)]\n",
    "        new_key = f\"{base_key}_restored_{version_id}.{file_extension}\"\n",
    "\n",
    "    try:\n",
    "        s3_client.copy_object(\n",
    "            Bucket=bucket_name,\n",
    "            CopySource={\"Bucket\": bucket_name, \"Key\": key, \"VersionId\": version_id},\n",
    "            Key=new_key,\n",
    "        )\n",
    "        print(\n",
    "            f\"Copied object {key} (version {version_id}) to {new_key} in bucket {bucket_name}/{prefix}.\"\n",
    "        )\n",
    "    except Exception as e:\n",
    "        print(f\"Failed to copy object {key} (version {version_id}): {str(e)}\")\n",
    "        raise"
   ]
  },
  {
   "cell_type": "code",
   "execution_count": 9,
   "metadata": {},
   "outputs": [],
   "source": [
    "def lambda_handler(event: Dict, context: Optional[object]) -> bool:\n",
    "    \"\"\"\n",
    "    AWS Lambda function entry point.\n",
    "\n",
    "    Args:\n",
    "        event (Dict): Event data containing S3 bucket name, target path, and date range.\n",
    "        context (Optional[object]): Lambda context object.\n",
    "\n",
    "    Returns:\n",
    "        bool: True if the operation completes successfully.\n",
    "\n",
    "    Raises:\n",
    "        Exception: Propagates exceptions for AWS Lambda to handle.\n",
    "    \"\"\"\n",
    "    try:\n",
    "        bucket_name = event[\"s3_bucket\"]\n",
    "        prefix = f\"{event['target_path']}/\"\n",
    "\n",
    "        object_versions = list_object_versions(bucket_name, prefix)\n",
    "        print(\n",
    "            f\"Retrieved {len(object_versions)} object versions from bucket {bucket_name} with prefix {prefix}.\"\n",
    "        )\n",
    "\n",
    "        start_date = datetime(*convert_to_utc_components(event[\"start_date\"]))\n",
    "        end_date = datetime(*convert_to_utc_components(event[\"end_date\"]))\n",
    "\n",
    "        filtered_objects = filter_object_versions_by_date(\n",
    "            object_versions, start_date, end_date\n",
    "        )\n",
    "        print(\n",
    "            f\"Filtered {len(filtered_objects)} object versions between {start_date} and {end_date}.\"\n",
    "        )\n",
    "\n",
    "        for obj in filtered_objects:\n",
    "            copy_object_with_new_key(bucket_name, obj, prefix)\n",
    "\n",
    "        print(\"Successfully processed all objects.\")\n",
    "        return True\n",
    "\n",
    "    except Exception as e:\n",
    "        print(f\"Error in lambda_handler: {str(e)}\")\n",
    "        raise"
   ]
  },
  {
   "cell_type": "code",
   "execution_count": 15,
   "metadata": {},
   "outputs": [],
   "source": [
    "event = {\n",
    "    \"s3_bucket\": \"bb2-sandbox-datalake-raw\",\n",
    "    \"target_path\": \"restore_data_test\",\n",
    "    \"start_date\": \"November 29, 2024, 10:00:00 (UTC+02:00)\",\n",
    "    \"end_date\": \"November 29, 2024, 11:00:00 (UTC+02:00)\",\n",
    "}\n",
    "context = None"
   ]
  },
  {
   "cell_type": "code",
   "execution_count": 17,
   "metadata": {},
   "outputs": [],
   "source": [
    "bucket_name = event[\"s3_bucket\"]\n",
    "prefix = f\"{event['target_path']}/\""
   ]
  },
  {
   "cell_type": "code",
   "execution_count": 18,
   "metadata": {},
   "outputs": [
    {
     "name": "stdout",
     "output_type": "stream",
     "text": [
      "Retrieved 7 object versions from bucket bb2-sandbox-datalake-raw with prefix restore_data_test/.\n"
     ]
    }
   ],
   "source": [
    "object_versions = list_object_versions(bucket_name, prefix)\n",
    "print(\n",
    "    f\"Retrieved {len(object_versions)} object versions from bucket {bucket_name} with prefix {prefix}.\"\n",
    ")"
   ]
  },
  {
   "cell_type": "code",
   "execution_count": 16,
   "metadata": {},
   "outputs": [
    {
     "name": "stdout",
     "output_type": "stream",
     "text": [
      "Retrieved 5 object versions from bucket bb2-sandbox-datalake-raw with prefix restore_data_test/.\n",
      "Filtered 4 object versions between 2024-11-29 08:00:00 and 2024-11-29 09:00:00.\n",
      "Copied object restore_data_test/date=2024-11-06/60e53455ff1c4d648bd49371c9924411.snappy.parquet (version 9xkK3A5M.63.V8gRsMxGlV0jQ78iku_k) to restore_data_test/date=2024-11-06/60e53455ff1c4d648bd49371c9924411_restored_9xkK3A5M.63.V8gRsMxGlV0jQ78iku_k.snappy.parquet in bucket bb2-sandbox-datalake-raw/restore_data_test/.\n",
      "Copied object restore_data_test/date=2024-11-06/60e53455ff1c4d648bd49371c9924411.snappy.parquet (version wYG3WaVWooQV9dRx7Q4StHzITz9KKoo9) to restore_data_test/date=2024-11-06/60e53455ff1c4d648bd49371c9924411_restored_wYG3WaVWooQV9dRx7Q4StHzITz9KKoo9.snappy.parquet in bucket bb2-sandbox-datalake-raw/restore_data_test/.\n",
      "Successfully processed all objects.\n"
     ]
    },
    {
     "data": {
      "text/plain": [
       "True"
      ]
     },
     "execution_count": 16,
     "metadata": {},
     "output_type": "execute_result"
    }
   ],
   "source": [
    "lambda_handler(event, context)"
   ]
  },
  {
   "cell_type": "code",
   "execution_count": null,
   "metadata": {},
   "outputs": [],
   "source": []
  }
 ],
 "metadata": {
  "kernelspec": {
   "display_name": "Python 3",
   "language": "python",
   "name": "python3"
  },
  "language_info": {
   "codemirror_mode": {
    "name": "ipython",
    "version": 3
   },
   "file_extension": ".py",
   "mimetype": "text/x-python",
   "name": "python",
   "nbconvert_exporter": "python",
   "pygments_lexer": "ipython3",
   "version": "3.10.10"
  }
 },
 "nbformat": 4,
 "nbformat_minor": 2
}
